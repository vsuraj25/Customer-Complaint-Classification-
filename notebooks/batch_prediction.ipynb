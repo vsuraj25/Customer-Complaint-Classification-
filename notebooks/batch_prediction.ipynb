{
 "cells": [
  {
   "cell_type": "code",
   "execution_count": 1,
   "metadata": {},
   "outputs": [
    {
     "name": "stdout",
     "output_type": "stream",
     "text": [
      "Reading environment variables\n"
     ]
    },
    {
     "name": "stderr",
     "output_type": "stream",
     "text": [
      "Setting default log level to \"WARN\".\n",
      "To adjust logging level use sc.setLogLevel(newLevel). For SparkR, use setLogLevel(newLevel).\n",
      "23/05/15 12:41:30 WARN NativeCodeLoader: Unable to load native-hadoop library for your platform... using builtin-java classes where applicable\n"
     ]
    }
   ],
   "source": [
    "from src.config.spark_manager import spark_session\n"
   ]
  },
  {
   "cell_type": "code",
   "execution_count": 2,
   "metadata": {},
   "outputs": [
    {
     "name": "stderr",
     "output_type": "stream",
     "text": [
      "                                                                                \r"
     ]
    }
   ],
   "source": [
    "df = spark_session.read.parquet('/config/workspace/data/outbox/src_20230515_123511')"
   ]
  },
  {
   "cell_type": "code",
   "execution_count": 3,
   "metadata": {},
   "outputs": [
    {
     "name": "stderr",
     "output_type": "stream",
     "text": [
      "23/05/15 12:43:08 WARN package: Truncated the string representation of a plan since it was too large. This behavior can be adjusted by setting 'spark.sql.debug.maxToStringFields'.\n",
      "[Stage 1:>                                                          (0 + 1) / 1]\r"
     ]
    },
    {
     "name": "stdout",
     "output_type": "stream",
     "text": [
      "+--------------------+-----------------------+----------------+------------+-----------------------+-------------------------+-----------------+-------------------+--------------------+--------------------+--------------------+-----+--------------------+----------------+-------------+----+------+--------+------------+---------------+-------------------+----------------+-------------------+----------------+-------------------+----------------+--------------------+--------------------+--------------------+--------------------+---------------------+-------------+-----------+----------+----------------------------+\n",
      "|             company|company_public_response|company_response|complaint_id|complaint_what_happened|consumer_consent_provided|consumer_disputed|      date_received|date_sent_to_company|               issue|             product|state|           sub_issue|     sub_product|submitted_via|tags|timely|zip_code|diff_in_days|im_diff_in_days|im_company_response|im_submitted_via|si_company_response|si_submitted_via|tf_company_response|tf_submitted_via|               words|         rawFeatures|            tf_issue|   va_input_features|scaled_input_features|rawPrediction|probability|prediction|prediction_consumer_disputed|\n",
      "+--------------------+-----------------------+----------------+------------+-----------------------+-------------------------+-----------------+-------------------+--------------------+--------------------+--------------------+-----+--------------------+----------------+-------------+----+------+--------+------------+---------------+-------------------+----------------+-------------------+----------------+-------------------+----------------+--------------------+--------------------+--------------------+--------------------+---------------------+-------------+-----------+----------+----------------------------+\n",
      "|Experian Informat...|                   null|     In progress|     6778297|                       |                     null|              N/A|2023-03-31 22:30:00| 2023-03-31 22:30:00|Improper use of y...|Credit reporting,...|   OH|Reporting company...|Credit reporting|          Web|null|   Yes|   44111|         0.0|            0.0|        In progress|             Web|                0.0|             0.0|      (4,[0],[1.0])|   (4,[0],[1.0])|[improper, use, o...|(40,[13,15,23,25,...|(40,[13,15,23,25,...|(49,[0,4,22,24,32...| (49,[0,4,22,24,32...|       [20.0]|      [1.0]|       0.0|                         N/A|\n",
      "|TRANSUNION INTERM...|                   null|     In progress|     6791133|                       |                     null|              N/A|2023-04-05 22:30:00| 2023-04-05 22:30:00|Improper use of y...|Credit reporting,...|   IL|Reporting company...|Credit reporting|          Web|null|   Yes|   60625|         0.0|            0.0|        In progress|             Web|                0.0|             0.0|      (4,[0],[1.0])|   (4,[0],[1.0])|[improper, use, o...|(40,[13,15,23,25,...|(40,[13,15,23,25,...|(49,[0,4,22,24,32...| (49,[0,4,22,24,32...|       [20.0]|      [1.0]|       0.0|                         N/A|\n",
      "|TRANSUNION INTERM...|                   null|     In progress|     6769134|                       |                     null|              N/A|2023-04-03 22:30:00| 2023-04-03 22:30:00|Incorrect informa...|Credit reporting,...|   TX|Information belon...|Credit reporting|          Web|null|   Yes|   76036|         0.0|            0.0|        In progress|             Web|                0.0|             0.0|      (4,[0],[1.0])|   (4,[0],[1.0])|[incorrect, infor...|(40,[16,22,23,25,...|(40,[16,22,23,25,...|(49,[0,4,25,31,32...| (49,[0,4,25,31,32...|       [20.0]|      [1.0]|       0.0|                         N/A|\n",
      "|TRANSUNION INTERM...|                   null|     In progress|     6768549|                       |                     null|              N/A|2023-04-02 22:30:00| 2023-04-02 22:30:00|Improper use of y...|Credit reporting,...|   OK|Reporting company...|Credit reporting|          Web|null|   Yes|   73132|         0.0|            0.0|        In progress|             Web|                0.0|             0.0|      (4,[0],[1.0])|   (4,[0],[1.0])|[improper, use, o...|(40,[13,15,23,25,...|(40,[13,15,23,25,...|(49,[0,4,22,24,32...| (49,[0,4,22,24,32...|       [20.0]|      [1.0]|       0.0|                         N/A|\n",
      "|TRANSUNION INTERM...|                   null|     In progress|     6768641|                       |                     null|              N/A|2023-04-02 22:30:00| 2023-04-02 22:30:00|Incorrect informa...|Credit reporting,...|   GA|Information belon...|Credit reporting|          Web|null|   Yes|   31220|         0.0|            0.0|        In progress|             Web|                0.0|             0.0|      (4,[0],[1.0])|   (4,[0],[1.0])|[incorrect, infor...|(40,[16,22,23,25,...|(40,[16,22,23,25,...|(49,[0,4,25,31,32...| (49,[0,4,25,31,32...|       [20.0]|      [1.0]|       0.0|                         N/A|\n",
      "|       EQUIFAX, INC.|                   null|     In progress|     6785398|                       |                     null|              N/A|2023-04-04 22:30:00| 2023-04-04 22:30:00|Problem with a cr...|Credit reporting,...|   TX|Was not notified ...|Credit reporting|          Web|null|   Yes|   75252|         0.0|            0.0|        In progress|             Web|                0.0|             0.0|      (4,[0],[1.0])|   (4,[0],[1.0])|[problem, with, a...|(40,[10,11,18,20,...|(40,[10,11,18,20,...|(49,[0,4,19,20,27...| (49,[0,4,19,20,27...|       [20.0]|      [1.0]|       0.0|                         N/A|\n",
      "|TRANSUNION INTERM...|                   null|     In progress|     6785963|                       |                    Other|              N/A|2023-04-04 22:30:00| 2023-04-04 22:30:00|Improper use of y...|Credit reporting,...|   CA|Credit inquiries ...|Credit reporting|          Web|null|   Yes|   91203|         0.0|            0.0|        In progress|             Web|                0.0|             0.0|      (4,[0],[1.0])|   (4,[0],[1.0])|[improper, use, o...|(40,[13,15,23,25,...|(40,[13,15,23,25,...|(49,[0,4,22,24,32...| (49,[0,4,22,24,32...|       [20.0]|      [1.0]|       0.0|                         N/A|\n",
      "|Credence Resource...|                   null|     In progress|     6789267|                       |                     null|              N/A|2023-04-03 22:30:00| 2023-04-03 22:30:00|Attempts to colle...|     Debt collection|   TX|   Debt is not yours|   I do not know|          Web|null|   Yes|   77053|         0.0|            0.0|        In progress|             Web|                0.0|             0.0|      (4,[0],[1.0])|   (4,[0],[1.0])|[attempts, to, co...|(40,[3,5,8,14,15,...|(40,[3,5,8,14,15,...|(49,[0,4,12,14,17...| (49,[0,4,12,14,17...|       [20.0]|      [1.0]|       0.0|                         N/A|\n",
      "|TRANSUNION INTERM...|                   null|     In progress|     6768294|                       |                     null|              N/A|2023-04-02 22:30:00| 2023-04-02 22:30:00|Improper use of y...|Credit reporting,...|   GA|Credit inquiries ...|Credit reporting|          Web|null|   Yes|   30083|         0.0|            0.0|        In progress|             Web|                0.0|             0.0|      (4,[0],[1.0])|   (4,[0],[1.0])|[improper, use, o...|(40,[13,15,23,25,...|(40,[13,15,23,25,...|(49,[0,4,22,24,32...| (49,[0,4,22,24,32...|       [20.0]|      [1.0]|       0.0|                         N/A|\n",
      "|TRANSUNION INTERM...|                   null|     In progress|     6795509|                       |                     null|              N/A|2023-04-04 22:30:00| 2023-04-04 22:30:00|Incorrect informa...|Credit reporting,...|   NC|Information belon...|Credit reporting|          Web|null|   Yes|   27519|         0.0|            0.0|        In progress|             Web|                0.0|             0.0|      (4,[0],[1.0])|   (4,[0],[1.0])|[incorrect, infor...|(40,[16,22,23,25,...|(40,[16,22,23,25,...|(49,[0,4,25,31,32...| (49,[0,4,25,31,32...|       [20.0]|      [1.0]|       0.0|                         N/A|\n",
      "|TRANSUNION INTERM...|                   null|     In progress|     6767811|                       |                     null|              N/A|2023-04-02 22:30:00| 2023-04-02 22:30:00|Problem with a cr...|Credit reporting,...|   FL|Investigation too...|Credit reporting|          Web|null|   Yes|   33026|         0.0|            0.0|        In progress|             Web|                0.0|             0.0|      (4,[0],[1.0])|   (4,[0],[1.0])|[problem, with, a...|(40,[10,11,18,20,...|(40,[10,11,18,20,...|(49,[0,4,19,20,27...| (49,[0,4,19,20,27...|       [20.0]|      [1.0]|       0.0|                         N/A|\n",
      "|       EQUIFAX, INC.|                   null|     In progress|     6786915|                       |                    Other|              N/A|2023-04-03 22:30:00| 2023-04-03 22:30:00|Improper use of y...|Credit reporting,...|   RI|Credit inquiries ...|Credit reporting|          Web|null|   Yes|   02889|         0.0|            0.0|        In progress|             Web|                0.0|             0.0|      (4,[0],[1.0])|   (4,[0],[1.0])|[improper, use, o...|(40,[13,15,23,25,...|(40,[13,15,23,25,...|(49,[0,4,22,24,32...| (49,[0,4,22,24,32...|       [20.0]|      [1.0]|       0.0|                         N/A|\n",
      "|TRANSUNION INTERM...|                   null|     In progress|     6786619|                       |                     null|              N/A|2023-04-03 22:30:00| 2023-04-03 22:30:00|Unable to get you...|Credit reporting,...|   LA|Problem getting y...|Credit reporting|          Web|null|   Yes|   70117|         0.0|            0.0|        In progress|             Web|                0.0|             0.0|      (4,[0],[1.0])|   (4,[0],[1.0])|[unable, to, get,...|(40,[7,8,21,23,25...|(40,[7,8,21,23,25...|(49,[0,4,16,17,30...| (49,[0,4,16,17,30...|       [20.0]|      [1.0]|       0.0|                         N/A|\n",
      "|TRANSUNION INTERM...|                   null|     In progress|     6791071|                       |                     null|              N/A|2023-04-05 22:30:00| 2023-04-05 22:30:00|Incorrect informa...|Credit reporting,...|   AR|Information belon...|Credit reporting|          Web|null|   Yes|   72118|         0.0|            0.0|        In progress|             Web|                0.0|             0.0|      (4,[0],[1.0])|   (4,[0],[1.0])|[incorrect, infor...|(40,[16,22,23,25,...|(40,[16,22,23,25,...|(49,[0,4,25,31,32...| (49,[0,4,25,31,32...|       [20.0]|      [1.0]|       0.0|                         N/A|\n",
      "|TRANSUNION INTERM...|                   null|     In progress|     6768079|                       |                     null|              N/A|2023-04-02 22:30:00| 2023-04-02 22:30:00|Incorrect informa...|Credit reporting,...|   IN|Account status in...|Credit reporting|          Web|null|   Yes|   46360|         0.0|            0.0|        In progress|             Web|                0.0|             0.0|      (4,[0],[1.0])|   (4,[0],[1.0])|[incorrect, infor...|(40,[16,22,23,25,...|(40,[16,22,23,25,...|(49,[0,4,25,31,32...| (49,[0,4,25,31,32...|       [20.0]|      [1.0]|       0.0|                         N/A|\n",
      "|TRANSUNION INTERM...|                   null|     In progress|     6768240|                       |                     null|              N/A|2023-04-02 22:30:00| 2023-04-02 22:30:00|Attempts to colle...|     Debt collection|   NY|   Debt is not yours|      Other debt|          Web|null|   Yes|   14712|         0.0|            0.0|        In progress|             Web|                0.0|             0.0|      (4,[0],[1.0])|   (4,[0],[1.0])|[attempts, to, co...|(40,[3,5,8,14,15,...|(40,[3,5,8,14,15,...|(49,[0,4,12,14,17...| (49,[0,4,12,14,17...|       [20.0]|      [1.0]|       0.0|                         N/A|\n",
      "|TRANSUNION INTERM...|                   null|     In progress|     6786839|                       |                     null|              N/A|2023-04-03 22:30:00| 2023-04-03 22:30:00|Improper use of y...|Credit reporting,...|   NY|Reporting company...|Credit reporting|          Web|null|   Yes|   10011|         0.0|            0.0|        In progress|             Web|                0.0|             0.0|      (4,[0],[1.0])|   (4,[0],[1.0])|[improper, use, o...|(40,[13,15,23,25,...|(40,[13,15,23,25,...|(49,[0,4,22,24,32...| (49,[0,4,22,24,32...|       [20.0]|      [1.0]|       0.0|                         N/A|\n",
      "|TRANSUNION INTERM...|                   null|     In progress|     6768121|                       |                     null|              N/A|2023-04-02 22:30:00| 2023-04-02 22:30:00|Problem with a cr...|Credit reporting,...|   NY|Their investigati...|Credit reporting|          Web|null|   Yes|   14204|         0.0|            0.0|        In progress|             Web|                0.0|             0.0|      (4,[0],[1.0])|   (4,[0],[1.0])|[problem, with, a...|(40,[10,11,18,20,...|(40,[10,11,18,20,...|(49,[0,4,19,20,27...| (49,[0,4,19,20,27...|       [20.0]|      [1.0]|       0.0|                         N/A|\n",
      "|TRANSUNION INTERM...|                   null|     In progress|     6786398|                       |                     null|              N/A|2023-04-03 22:30:00| 2023-04-03 22:30:00|Problem with a cr...|Credit reporting,...|   NV|Their investigati...|Credit reporting|          Web|null|   Yes|   89113|         0.0|            0.0|        In progress|             Web|                0.0|             0.0|      (4,[0],[1.0])|   (4,[0],[1.0])|[problem, with, a...|(40,[10,11,18,20,...|(40,[10,11,18,20,...|(49,[0,4,19,20,27...| (49,[0,4,19,20,27...|       [20.0]|      [1.0]|       0.0|                         N/A|\n",
      "|TRANSUNION INTERM...|                   null|     In progress|     6787166|                       |                     null|              N/A|2023-04-03 22:30:00| 2023-04-03 22:30:00|Incorrect informa...|Credit reporting,...|   PA|Information belon...|Credit reporting|          Web|null|   Yes|   19140|         0.0|            0.0|        In progress|             Web|                0.0|             0.0|      (4,[0],[1.0])|   (4,[0],[1.0])|[incorrect, infor...|(40,[16,22,23,25,...|(40,[16,22,23,25,...|(49,[0,4,25,31,32...| (49,[0,4,25,31,32...|       [20.0]|      [1.0]|       0.0|                         N/A|\n",
      "+--------------------+-----------------------+----------------+------------+-----------------------+-------------------------+-----------------+-------------------+--------------------+--------------------+--------------------+-----+--------------------+----------------+-------------+----+------+--------+------------+---------------+-------------------+----------------+-------------------+----------------+-------------------+----------------+--------------------+--------------------+--------------------+--------------------+---------------------+-------------+-----------+----------+----------------------------+\n",
      "only showing top 20 rows\n",
      "\n"
     ]
    },
    {
     "name": "stderr",
     "output_type": "stream",
     "text": [
      "                                                                                \r"
     ]
    }
   ],
   "source": [
    "df.show()"
   ]
  },
  {
   "cell_type": "code",
   "execution_count": 4,
   "metadata": {},
   "outputs": [
    {
     "data": {
      "text/plain": [
       "['company',\n",
       " 'company_public_response',\n",
       " 'company_response',\n",
       " 'complaint_id',\n",
       " 'complaint_what_happened',\n",
       " 'consumer_consent_provided',\n",
       " 'consumer_disputed',\n",
       " 'date_received',\n",
       " 'date_sent_to_company',\n",
       " 'issue',\n",
       " 'product',\n",
       " 'state',\n",
       " 'sub_issue',\n",
       " 'sub_product',\n",
       " 'submitted_via',\n",
       " 'tags',\n",
       " 'timely',\n",
       " 'zip_code',\n",
       " 'diff_in_days',\n",
       " 'im_diff_in_days',\n",
       " 'im_company_response',\n",
       " 'im_submitted_via',\n",
       " 'si_company_response',\n",
       " 'si_submitted_via',\n",
       " 'tf_company_response',\n",
       " 'tf_submitted_via',\n",
       " 'words',\n",
       " 'rawFeatures',\n",
       " 'tf_issue',\n",
       " 'va_input_features',\n",
       " 'scaled_input_features',\n",
       " 'rawPrediction',\n",
       " 'probability',\n",
       " 'prediction',\n",
       " 'prediction_consumer_disputed']"
      ]
     },
     "execution_count": 4,
     "metadata": {},
     "output_type": "execute_result"
    }
   ],
   "source": [
    "df.columns"
   ]
  },
  {
   "cell_type": "code",
   "execution_count": 7,
   "metadata": {},
   "outputs": [
    {
     "name": "stdout",
     "output_type": "stream",
     "text": [
      "+---------------------+-------------+-----------+----------+----------------------------+\n",
      "|scaled_input_features|rawPrediction|probability|prediction|prediction_consumer_disputed|\n",
      "+---------------------+-------------+-----------+----------+----------------------------+\n",
      "| (49,[0,4,22,24,32...|       [20.0]|      [1.0]|       0.0|                         N/A|\n",
      "| (49,[0,4,22,24,32...|       [20.0]|      [1.0]|       0.0|                         N/A|\n",
      "| (49,[0,4,25,31,32...|       [20.0]|      [1.0]|       0.0|                         N/A|\n",
      "| (49,[0,4,22,24,32...|       [20.0]|      [1.0]|       0.0|                         N/A|\n",
      "| (49,[0,4,25,31,32...|       [20.0]|      [1.0]|       0.0|                         N/A|\n",
      "| (49,[0,4,19,20,27...|       [20.0]|      [1.0]|       0.0|                         N/A|\n",
      "| (49,[0,4,22,24,32...|       [20.0]|      [1.0]|       0.0|                         N/A|\n",
      "| (49,[0,4,12,14,17...|       [20.0]|      [1.0]|       0.0|                         N/A|\n",
      "| (49,[0,4,22,24,32...|       [20.0]|      [1.0]|       0.0|                         N/A|\n",
      "| (49,[0,4,25,31,32...|       [20.0]|      [1.0]|       0.0|                         N/A|\n",
      "| (49,[0,4,19,20,27...|       [20.0]|      [1.0]|       0.0|                         N/A|\n",
      "| (49,[0,4,22,24,32...|       [20.0]|      [1.0]|       0.0|                         N/A|\n",
      "| (49,[0,4,16,17,30...|       [20.0]|      [1.0]|       0.0|                         N/A|\n",
      "| (49,[0,4,25,31,32...|       [20.0]|      [1.0]|       0.0|                         N/A|\n",
      "| (49,[0,4,25,31,32...|       [20.0]|      [1.0]|       0.0|                         N/A|\n",
      "| (49,[0,4,12,14,17...|       [20.0]|      [1.0]|       0.0|                         N/A|\n",
      "| (49,[0,4,22,24,32...|       [20.0]|      [1.0]|       0.0|                         N/A|\n",
      "| (49,[0,4,19,20,27...|       [20.0]|      [1.0]|       0.0|                         N/A|\n",
      "| (49,[0,4,19,20,27...|       [20.0]|      [1.0]|       0.0|                         N/A|\n",
      "| (49,[0,4,25,31,32...|       [20.0]|      [1.0]|       0.0|                         N/A|\n",
      "+---------------------+-------------+-----------+----------+----------------------------+\n",
      "only showing top 20 rows\n",
      "\n"
     ]
    }
   ],
   "source": [
    "df.select([ 'scaled_input_features',\n",
    " 'rawPrediction',\n",
    " 'probability',\n",
    " 'prediction',\n",
    " 'prediction_consumer_disputed']).show()"
   ]
  },
  {
   "cell_type": "code",
   "execution_count": null,
   "metadata": {},
   "outputs": [],
   "source": []
  },
  {
   "cell_type": "code",
   "execution_count": null,
   "metadata": {},
   "outputs": [],
   "source": []
  },
  {
   "cell_type": "code",
   "execution_count": null,
   "metadata": {},
   "outputs": [],
   "source": []
  },
  {
   "cell_type": "code",
   "execution_count": null,
   "metadata": {},
   "outputs": [],
   "source": []
  },
  {
   "cell_type": "code",
   "execution_count": null,
   "metadata": {},
   "outputs": [],
   "source": []
  },
  {
   "cell_type": "code",
   "execution_count": null,
   "metadata": {},
   "outputs": [],
   "source": []
  },
  {
   "cell_type": "code",
   "execution_count": null,
   "metadata": {},
   "outputs": [],
   "source": []
  },
  {
   "cell_type": "code",
   "execution_count": null,
   "metadata": {},
   "outputs": [],
   "source": []
  },
  {
   "cell_type": "code",
   "execution_count": null,
   "metadata": {},
   "outputs": [],
   "source": []
  },
  {
   "cell_type": "code",
   "execution_count": null,
   "metadata": {},
   "outputs": [],
   "source": []
  },
  {
   "cell_type": "code",
   "execution_count": null,
   "metadata": {},
   "outputs": [],
   "source": []
  },
  {
   "cell_type": "code",
   "execution_count": null,
   "metadata": {},
   "outputs": [],
   "source": []
  }
 ],
 "metadata": {
  "kernelspec": {
   "display_name": "Python 3.8.10 64-bit",
   "language": "python",
   "name": "python3"
  },
  "language_info": {
   "codemirror_mode": {
    "name": "ipython",
    "version": 3
   },
   "file_extension": ".py",
   "mimetype": "text/x-python",
   "name": "python",
   "nbconvert_exporter": "python",
   "pygments_lexer": "ipython3",
   "version": "3.8.10"
  },
  "orig_nbformat": 4,
  "vscode": {
   "interpreter": {
    "hash": "e7370f93d1d0cde622a1f8e1c04877d8463912d04d973331ad4851f04de6915a"
   }
  }
 },
 "nbformat": 4,
 "nbformat_minor": 2
}
